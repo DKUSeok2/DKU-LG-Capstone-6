{
 "cells": [
  {
   "cell_type": "markdown",
   "metadata": {},
   "source": [
    "### 유진:"
   ]
  },
  {
   "cell_type": "code",
   "execution_count": null,
   "metadata": {},
   "outputs": [],
   "source": []
  },
  {
   "cell_type": "markdown",
   "metadata": {},
   "source": [
    "    "
   ]
  },
  {
   "cell_type": "markdown",
   "metadata": {},
   "source": [
    "### 다훈: 미세주입 관련 컬럼 결측치 제거"
   ]
  },
  {
   "cell_type": "code",
   "execution_count": null,
   "metadata": {},
   "outputs": [],
   "source": [
    "import pandas as pd\n",
    "\n",
    "def cover_nan_dahun(df):\n",
    "    # 대체할 열 목록\n",
    "    columns_to_fill = [\n",
    "        '미세주입된 난자 수', '미세주입에서 생성된 배아 수', '이식된 배아 수', \n",
    "        '미세주입 배아 이식 수', '저장된 배아 수', '미세주입 후 저장된 배아 수', \n",
    "        '해동된 배아 수', '해동 난자 수', '수집된 신선 난자 수', \n",
    "        '저장된 신선 난자 수', '혼합된 난자 수'\n",
    "    ]\n",
    "\n",
    "    df[columns_to_fill] = df[columns_to_fill].fillna(0)\n",
    "    \n",
    "    return df"
   ]
  },
  {
   "cell_type": "markdown",
   "metadata": {},
   "source": [
    "### 유석:"
   ]
  },
  {
   "cell_type": "code",
   "execution_count": null,
   "metadata": {},
   "outputs": [],
   "source": []
  },
  {
   "cell_type": "markdown",
   "metadata": {},
   "source": [
    "### 호영:"
   ]
  },
  {
   "cell_type": "code",
   "execution_count": null,
   "metadata": {},
   "outputs": [],
   "source": []
  },
  {
   "cell_type": "markdown",
   "metadata": {},
   "source": [
    "## 전처리 제거 함수(종합)"
   ]
  },
  {
   "cell_type": "code",
   "execution_count": null,
   "metadata": {},
   "outputs": [],
   "source": [
    "import pandas as pd\n",
    "\n",
    "def missing_value_removal_function(df):\n",
    "    \"\"\"\n",
    "    데이터프레임의 특정 열에 있는 결측치(NaN)를 0으로 대체하는 함수.\n",
    "    \n",
    "    파라미터:\n",
    "        df (pd.DataFrame): NaN을 0으로 대체할 데이터프레임.\n",
    "\n",
    "    리턴:\n",
    "        pd.DataFrame: NaN이 0으로 대체된 새로운 데이터프레임.\n",
    "    \"\"\"\n",
    "\n",
    "    # 유진 함수\n",
    "\n",
    "    # 다훈 함수\n",
    "    df = cover_nan_dahun(df)\n",
    "\n",
    "    # 유석 함수\n",
    "\n",
    "    # 호영 함수\n",
    "\n",
    "    return df"
   ]
  }
 ],
 "metadata": {
  "kernelspec": {
   "display_name": "lg_aimers",
   "language": "python",
   "name": "python3"
  },
  "language_info": {
   "name": "python",
   "version": "3.12.8"
  }
 },
 "nbformat": 4,
 "nbformat_minor": 2
}
