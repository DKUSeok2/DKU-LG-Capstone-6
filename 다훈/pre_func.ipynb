{
 "cells": [
  {
   "cell_type": "code",
   "execution_count": null,
   "metadata": {},
   "outputs": [],
   "source": [
    "import pandas as pd\n",
    "\n",
    "df = pd.read_csv('shared codes/data/train.csv')"
   ]
  },
  {
   "cell_type": "code",
   "execution_count": null,
   "metadata": {},
   "outputs": [],
   "source": [
    "import pandas as pd\n",
    "\n",
    "def cover_nan(df):\n",
    "    \"\"\"\n",
    "    데이터프레임의 특정 열에 있는 결측치(NaN)를 0으로 대체하는 함수.\n",
    "    \n",
    "    Parameters:\n",
    "        df (pd.DataFrame): NaN을 0으로 대체할 데이터프레임.\n",
    "\n",
    "    Returns:\n",
    "        pd.DataFrame: NaN이 0으로 대체된 새로운 데이터프레임.\n",
    "    \"\"\"\n",
    "    # 대체할 열 목록\n",
    "    columns_to_fill = [\n",
    "        '미세주입된 난자 수', '미세주입에서 생성된 배아 수', '이식된 배아 수', \n",
    "        '미세주입 배아 이식 수', '저장된 배아 수', '미세주입 후 저장된 배아 수', \n",
    "        '해동된 배아 수해동 난자 수', '수집된 신선 난자 수', \n",
    "        '저장된 신선 난자 수', '혼합된 난자 수'\n",
    "    ]\n",
    "\n",
    "    # 각 열의 결측치(NaN)를 0으로 대치\n",
    "    # 여기서는 기존 데이터프레임을 변경하도록 합니다.\n",
    "    df[columns_to_fill] = df[columns_to_fill].fillna(0)\n",
    "    \n",
    "    return df\n",
    "\n",
    "# 사용 예시:\n",
    "# df = cover_nan(df)"
   ]
  }
 ],
 "metadata": {
  "kernelspec": {
   "display_name": "lg_aimers",
   "language": "python",
   "name": "python3"
  },
  "language_info": {
   "name": "python",
   "version": "3.12.8"
  }
 },
 "nbformat": 4,
 "nbformat_minor": 2
}
